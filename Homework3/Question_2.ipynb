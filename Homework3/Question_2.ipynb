{
  "nbformat": 4,
  "nbformat_minor": 0,
  "metadata": {
    "colab": {
      "provenance": []
    },
    "kernelspec": {
      "name": "python3",
      "display_name": "Python 3"
    },
    "language_info": {
      "name": "python"
    }
  },
  "cells": [
    {
      "cell_type": "markdown",
      "source": [
        "#Question 2b"
      ],
      "metadata": {
        "id": "rzY4bTW-_Mys"
      }
    },
    {
      "cell_type": "code",
      "execution_count": 1,
      "metadata": {
        "id": "5hHuIm3MeVzJ"
      },
      "outputs": [],
      "source": [
        "from scipy import linalg\n",
        "import numpy as np"
      ]
    },
    {
      "cell_type": "code",
      "source": [
        "L_mat = np.array([[4, -1, -1, -1, 0, 0, -1, 0],\n",
        "\t\t[-1, 3, -1, -1, 0, 0, 0, 0],\n",
        "\t\t[-1, -1, 3, -1, 0, 0, 0, 0],\n",
        "\t\t[-1, -1, -1, 3, 0, 0, 0, 0],\n",
        "\t\t[0, 0, 0, 0, 2, -1, -1, 0],\n",
        "\t\t[0, 0, 0, 0, -1, 2, -1, 0],\n",
        "\t\t[-1, 0, 0, 0, -1, -1, 4, -1],\n",
        "\t\t[0, 0, 0, 0, 0, 0, -1, 1]])\n",
        "\n",
        "nodes = {0:'A', 1:'B', 2:'C', 3:'D', 4:'E', 5:'F', 6:'G', 7:'H'}"
      ],
      "metadata": {
        "id": "n9jF-RGEecIj"
      },
      "execution_count": 2,
      "outputs": []
    },
    {
      "cell_type": "code",
      "source": [
        "evals, evecs = linalg.eigh(L_mat)\n",
        "print(\"Eigen values:\")\n",
        "vals = []\n",
        "for v in evals:\n",
        "\tvals.append(v)\n",
        "print(vals)"
      ],
      "metadata": {
        "colab": {
          "base_uri": "https://localhost:8080/"
        },
        "id": "9daecb6_ehv5",
        "outputId": "db63293e-0c83-41fd-e108-b06545ec11ed"
      },
      "execution_count": 3,
      "outputs": [
        {
          "output_type": "stream",
          "name": "stdout",
          "text": [
            "Eigen values:\n",
            "[2.1403818880962127e-16, 0.3542486889354087, 1.0000000000000049, 3.0000000000000036, 3.999999999999996, 4.000000000000001, 4.000000000000002, 5.645751311064582]\n"
          ]
        }
      ]
    },
    {
      "cell_type": "code",
      "source": [
        "print(\"Eigen vectors: \")\n",
        "print(evecs)"
      ],
      "metadata": {
        "colab": {
          "base_uri": "https://localhost:8080/"
        },
        "id": "r5vq234aeiVJ",
        "outputId": "9bb72745-d177-4c96-aaf3-4af469aaa78a"
      },
      "execution_count": 4,
      "outputs": [
        {
          "output_type": "stream",
          "name": "stdout",
          "text": [
            "Eigen vectors: \n",
            "[[-3.53553391e-01 -2.47017739e-01  0.00000000e+00  0.00000000e+00\n",
            "   6.07171542e-01  0.00000000e+00 -7.96411860e-02  6.62557346e-01]\n",
            " [-3.53553391e-01 -3.82527662e-01 -4.76108754e-17 -2.70599246e-17\n",
            "  -2.79396081e-01  5.62206567e-01 -5.60530944e-01 -1.42615758e-01]\n",
            " [-3.53553391e-01 -3.82527662e-01  1.45129832e-16 -1.12776339e-16\n",
            "  -1.00566604e-01  2.31676233e-01  8.02836107e-01 -1.42615758e-01]\n",
            " [-3.53553391e-01 -3.82527662e-01 -4.96383639e-17  1.50488323e-16\n",
            "  -2.27208857e-01 -7.93882800e-01 -1.62663977e-01 -1.42615758e-01]\n",
            " [-3.53553391e-01  3.82527662e-01 -4.08248290e-01  7.07106781e-01\n",
            "  -2.02390514e-01  2.11636264e-16  2.65470620e-02  1.42615758e-01]\n",
            " [-3.53553391e-01  3.82527662e-01 -4.08248290e-01 -7.07106781e-01\n",
            "  -2.02390514e-01 -2.87964097e-16  2.65470620e-02  1.42615758e-01]\n",
            " [-3.53553391e-01  2.47017739e-01 -4.78805923e-17 -1.06520593e-17\n",
            "   6.07171542e-01 -8.32667268e-17 -7.96411860e-02 -6.62557346e-01]\n",
            " [-3.53553391e-01  3.82527662e-01  8.16496581e-01  1.12242936e-16\n",
            "  -2.02390514e-01 -1.76941795e-16  2.65470620e-02  1.42615758e-01]]\n"
          ]
        }
      ]
    },
    {
      "cell_type": "markdown",
      "source": [
        "#Question 2c"
      ],
      "metadata": {
        "id": "39idAEum_RIk"
      }
    },
    {
      "cell_type": "code",
      "source": [
        "lambda2 = evals[1]       #second smallest eigen value\n",
        "x = evecs[:,1]           #corresponding eigen vector\n",
        "print(lambda2)\n",
        "print(x)"
      ],
      "metadata": {
        "colab": {
          "base_uri": "https://localhost:8080/"
        },
        "id": "vbxrXgh5eoED",
        "outputId": "142fcd57-aeb4-4c96-d6c8-212a3b7db392"
      },
      "execution_count": 5,
      "outputs": [
        {
          "output_type": "stream",
          "name": "stdout",
          "text": [
            "0.3542486889354087\n",
            "[-0.24701774 -0.38252766 -0.38252766 -0.38252766  0.38252766  0.38252766\n",
            "  0.24701774  0.38252766]\n"
          ]
        }
      ]
    },
    {
      "cell_type": "code",
      "source": [
        "print(\"Nodes in community 1 are:\")            #partition of community\n",
        "for n in np.argwhere(x<0):\n",
        "\tprint(nodes[n[0]])"
      ],
      "metadata": {
        "colab": {
          "base_uri": "https://localhost:8080/"
        },
        "id": "fczacTLXeqOl",
        "outputId": "a331cb9c-546d-4082-bfd5-6277e4f4cf18"
      },
      "execution_count": 6,
      "outputs": [
        {
          "output_type": "stream",
          "name": "stdout",
          "text": [
            "Nodes in community 1 are:\n",
            "A\n",
            "B\n",
            "C\n",
            "D\n"
          ]
        }
      ]
    },
    {
      "cell_type": "code",
      "source": [
        "print(\"Nodes in community 2 are:\")\n",
        "for n in np.argwhere(x>0):\n",
        "\tprint(nodes[n[0]])"
      ],
      "metadata": {
        "colab": {
          "base_uri": "https://localhost:8080/"
        },
        "id": "LwvKX0qZeqkv",
        "outputId": "4a422f3d-d029-4d01-e96e-e614a990b672"
      },
      "execution_count": 7,
      "outputs": [
        {
          "output_type": "stream",
          "name": "stdout",
          "text": [
            "Nodes in community 2 are:\n",
            "E\n",
            "F\n",
            "G\n",
            "H\n"
          ]
        }
      ]
    }
  ]
}