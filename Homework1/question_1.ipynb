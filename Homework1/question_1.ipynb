{
  "nbformat": 4,
  "nbformat_minor": 0,
  "metadata": {
    "colab": {
      "provenance": []
    },
    "kernelspec": {
      "name": "python3",
      "display_name": "Python 3"
    },
    "language_info": {
      "name": "python"
    }
  },
  "cells": [
    {
      "cell_type": "markdown",
      "source": [
        "QUESTION 1"
      ],
      "metadata": {
        "id": "mgvfkrPpRgbx"
      }
    },
    {
      "cell_type": "code",
      "execution_count": 1,
      "metadata": {
        "colab": {
          "base_uri": "https://localhost:8080/"
        },
        "id": "gKl8opevC_Hk",
        "outputId": "dcbbeb0d-d38b-4412-bb57-4715153fa432"
      },
      "outputs": [
        {
          "output_type": "stream",
          "name": "stdout",
          "text": [
            "Looking in indexes: https://pypi.org/simple, https://us-python.pkg.dev/colab-wheels/public/simple/\n",
            "Collecting pyspark\n",
            "  Downloading pyspark-3.3.2.tar.gz (281.4 MB)\n",
            "\u001b[2K     \u001b[90m━━━━━━━━━━━━━━━━━━━━━━━━━━━━━━━━━━━━━━━\u001b[0m \u001b[32m281.4/281.4 MB\u001b[0m \u001b[31m4.8 MB/s\u001b[0m eta \u001b[36m0:00:00\u001b[0m\n",
            "\u001b[?25h  Preparing metadata (setup.py) ... \u001b[?25l\u001b[?25hdone\n",
            "Collecting py4j==0.10.9.5\n",
            "  Downloading py4j-0.10.9.5-py2.py3-none-any.whl (199 kB)\n",
            "\u001b[2K     \u001b[90m━━━━━━━━━━━━━━━━━━━━━━━━━━━━━━━━━━━━━━\u001b[0m \u001b[32m199.7/199.7 KB\u001b[0m \u001b[31m15.4 MB/s\u001b[0m eta \u001b[36m0:00:00\u001b[0m\n",
            "\u001b[?25hBuilding wheels for collected packages: pyspark\n",
            "  Building wheel for pyspark (setup.py) ... \u001b[?25l\u001b[?25hdone\n",
            "  Created wheel for pyspark: filename=pyspark-3.3.2-py2.py3-none-any.whl size=281824025 sha256=2718356e23e88fc19be4b00e5c55d0d85adcb0d34dd1c553bb56dd1eebf74e43\n",
            "  Stored in directory: /root/.cache/pip/wheels/b1/59/a0/a1a0624b5e865fd389919c1a10f53aec9b12195d6747710baf\n",
            "Successfully built pyspark\n",
            "Installing collected packages: py4j, pyspark\n",
            "Successfully installed py4j-0.10.9.5 pyspark-3.3.2\n",
            "The following package was automatically installed and is no longer required:\n",
            "  libnvidia-common-510\n",
            "Use 'apt autoremove' to remove it.\n",
            "The following additional packages will be installed:\n",
            "  openjdk-8-jre-headless\n",
            "Suggested packages:\n",
            "  openjdk-8-demo openjdk-8-source libnss-mdns fonts-dejavu-extra\n",
            "  fonts-ipafont-gothic fonts-ipafont-mincho fonts-wqy-microhei\n",
            "  fonts-wqy-zenhei fonts-indic\n",
            "The following NEW packages will be installed:\n",
            "  openjdk-8-jdk-headless openjdk-8-jre-headless\n",
            "0 upgraded, 2 newly installed, 0 to remove and 21 not upgraded.\n",
            "Need to get 36.5 MB of archives.\n",
            "After this operation, 143 MB of additional disk space will be used.\n",
            "Selecting previously unselected package openjdk-8-jre-headless:amd64.\n",
            "(Reading database ... 128126 files and directories currently installed.)\n",
            "Preparing to unpack .../openjdk-8-jre-headless_8u352-ga-1~20.04_amd64.deb ...\n",
            "Unpacking openjdk-8-jre-headless:amd64 (8u352-ga-1~20.04) ...\n",
            "Selecting previously unselected package openjdk-8-jdk-headless:amd64.\n",
            "Preparing to unpack .../openjdk-8-jdk-headless_8u352-ga-1~20.04_amd64.deb ...\n",
            "Unpacking openjdk-8-jdk-headless:amd64 (8u352-ga-1~20.04) ...\n",
            "Setting up openjdk-8-jre-headless:amd64 (8u352-ga-1~20.04) ...\n",
            "update-alternatives: using /usr/lib/jvm/java-8-openjdk-amd64/jre/bin/orbd to provide /usr/bin/orbd (orbd) in auto mode\n",
            "update-alternatives: using /usr/lib/jvm/java-8-openjdk-amd64/jre/bin/servertool to provide /usr/bin/servertool (servertool) in auto mode\n",
            "update-alternatives: using /usr/lib/jvm/java-8-openjdk-amd64/jre/bin/tnameserv to provide /usr/bin/tnameserv (tnameserv) in auto mode\n",
            "Setting up openjdk-8-jdk-headless:amd64 (8u352-ga-1~20.04) ...\n",
            "update-alternatives: using /usr/lib/jvm/java-8-openjdk-amd64/bin/idlj to provide /usr/bin/idlj (idlj) in auto mode\n",
            "update-alternatives: using /usr/lib/jvm/java-8-openjdk-amd64/bin/wsimport to provide /usr/bin/wsimport (wsimport) in auto mode\n",
            "update-alternatives: using /usr/lib/jvm/java-8-openjdk-amd64/bin/jsadebugd to provide /usr/bin/jsadebugd (jsadebugd) in auto mode\n",
            "update-alternatives: using /usr/lib/jvm/java-8-openjdk-amd64/bin/native2ascii to provide /usr/bin/native2ascii (native2ascii) in auto mode\n",
            "update-alternatives: using /usr/lib/jvm/java-8-openjdk-amd64/bin/javah to provide /usr/bin/javah (javah) in auto mode\n",
            "update-alternatives: using /usr/lib/jvm/java-8-openjdk-amd64/bin/clhsdb to provide /usr/bin/clhsdb (clhsdb) in auto mode\n",
            "update-alternatives: using /usr/lib/jvm/java-8-openjdk-amd64/bin/xjc to provide /usr/bin/xjc (xjc) in auto mode\n",
            "update-alternatives: using /usr/lib/jvm/java-8-openjdk-amd64/bin/hsdb to provide /usr/bin/hsdb (hsdb) in auto mode\n",
            "update-alternatives: using /usr/lib/jvm/java-8-openjdk-amd64/bin/schemagen to provide /usr/bin/schemagen (schemagen) in auto mode\n",
            "update-alternatives: using /usr/lib/jvm/java-8-openjdk-amd64/bin/extcheck to provide /usr/bin/extcheck (extcheck) in auto mode\n",
            "update-alternatives: using /usr/lib/jvm/java-8-openjdk-amd64/bin/jhat to provide /usr/bin/jhat (jhat) in auto mode\n",
            "update-alternatives: using /usr/lib/jvm/java-8-openjdk-amd64/bin/wsgen to provide /usr/bin/wsgen (wsgen) in auto mode\n"
          ]
        }
      ],
      "source": [
        "!pip install pyspark\n",
        "!pip install -U -q PyDrive\n",
        "!apt install openjdk-8-jdk-headless -qq"
      ]
    },
    {
      "cell_type": "code",
      "source": [
        "from pydrive.auth import GoogleAuth\n",
        "from pydrive.drive import GoogleDrive\n",
        "from google.colab import auth\n",
        "from oauth2client.client import GoogleCredentials\n",
        "\n",
        "auth.authenticate_user()\n",
        "gauth = GoogleAuth()\n",
        "gauth.credentials = GoogleCredentials.get_application_default()\n",
        "drive = GoogleDrive(gauth)"
      ],
      "metadata": {
        "id": "048QVQq6DnoL"
      },
      "execution_count": 2,
      "outputs": []
    },
    {
      "cell_type": "code",
      "source": [
        "from pyspark import SparkContext, SparkConf\n",
        "from collections import Counter\n",
        "import itertools\n",
        "from pyspark.sql import *\n",
        "from pyspark.sql.functions import *\n",
        "#To create the Spark Session\n",
        "spark = SparkSession.builder.getOrCreate()\n",
        "\n",
        "#To create the Spark Context\n",
        "sc = spark.sparkContext"
      ],
      "metadata": {
        "id": "6YwzxYr1Ds65"
      },
      "execution_count": 3,
      "outputs": []
    },
    {
      "cell_type": "code",
      "source": [
        "fileName = 'soc-LiveJournal1Adj.txt'\n",
        "#Setting the number of friends to be recommended as 10\n",
        "N = 10  \n",
        "\n",
        "def search_connections(line):\n",
        "  default_minimum = -9999999999\n",
        "  user, friends = line.split('\\t')\n",
        "  friends = friends.split(',')\n",
        "  mutual_friend = [(pair, 1) for pair in itertools.permutations(friends, 2)]\n",
        "  connections = [((user, friend), default_minimum) for friend in friends]\n",
        "  return connections + mutual_friend\n",
        "\n",
        "\n",
        "recommendations = (sc.textFile( fileName, 16 ).flatMap( search_connections ).reduceByKey( lambda total, current: total + current ).filter(lambda num_of_pairs: num_of_pairs[1] > 0).map(lambda num_of_user_friends: (num_of_user_friends[0][0], (num_of_user_friends[1], num_of_user_friends[0][1]))).groupByKey().map(lambda suggestions:(suggestions[0], Counter( dict( (friend, num) for num, friend in suggestions[1] ) ).most_common( N ) ) )\n",
        "                   )"
      ],
      "metadata": {
        "id": "1xd67DGOD8kz"
      },
      "execution_count": 5,
      "outputs": []
    },
    {
      "cell_type": "code",
      "source": [
        "print(\"Friends recommended for userID 924:\")\n",
        "print(recommendations.lookup('924'))\n",
        "print(\"Friends recommended for userID 8941:\")\n",
        "print(recommendations.lookup('8941'))\n",
        "print(\"Friends recommended for userID 8942:\")\n",
        "print(recommendations.lookup('8942'))\n",
        "print(\"Friends recommended for userID 9019:\")\n",
        "print(recommendations.lookup('9019'))\n",
        "print(\"Friends recommended for userID 9020:\")\n",
        "print(recommendations.lookup('9020'))\n",
        "print(\"Friends recommended for userID 9021:\")\n",
        "print(recommendations.lookup('9021'))\n",
        "print(\"Friends recommended for userID 9022:\")\n",
        "print(recommendations.lookup('9022'))\n",
        "print(\"Friends recommended for userID 9990:\")\n",
        "print(recommendations.lookup('9990'))\n",
        "print(\"Friends recommended for userID 9992:\")\n",
        "print(recommendations.lookup('9992'))\n",
        "print(\"Friends recommended for userID 9993:\")\n",
        "print(recommendations.lookup('9993'))"
      ],
      "metadata": {
        "colab": {
          "base_uri": "https://localhost:8080/"
        },
        "id": "isaj5yiYECP9",
        "outputId": "8fc7b1cb-5a51-476d-a197-b989425da01b"
      },
      "execution_count": 6,
      "outputs": [
        {
          "output_type": "stream",
          "name": "stdout",
          "text": [
            "Friends recommended for userID 924:\n",
            "[[('43748', 1), ('15416', 1), ('45881', 1), ('6995', 1), ('11860', 1), ('439', 1), ('2409', 1)]]\n",
            "Friends recommended for userID 8941:\n",
            "[[('8944', 2), ('8943', 2), ('8940', 1)]]\n",
            "Friends recommended for userID 8942:\n",
            "[[('8939', 3), ('8944', 1), ('8940', 1), ('8943', 1)]]\n",
            "Friends recommended for userID 9019:\n",
            "[[('9022', 2), ('317', 1), ('9023', 1)]]\n",
            "Friends recommended for userID 9020:\n",
            "[[('9021', 3), ('9017', 2), ('9022', 2), ('9016', 2), ('317', 1), ('9023', 1)]]\n",
            "Friends recommended for userID 9021:\n",
            "[[('9020', 3), ('9016', 2), ('9022', 2), ('9017', 2), ('9023', 1), ('317', 1)]]\n",
            "Friends recommended for userID 9022:\n",
            "[[('9020', 2), ('9021', 2), ('9019', 2), ('9017', 1), ('9016', 1), ('317', 1), ('9023', 1)]]\n",
            "Friends recommended for userID 9990:\n",
            "[[('13478', 1), ('34485', 1), ('34299', 1), ('34642', 1), ('13877', 1), ('37941', 1), ('13134', 1)]]\n",
            "Friends recommended for userID 9992:\n",
            "[[('9987', 4), ('9989', 4), ('35667', 3), ('9991', 2)]]\n",
            "Friends recommended for userID 9993:\n",
            "[[('9991', 5), ('13478', 1), ('34485', 1), ('13134', 1), ('13877', 1), ('34299', 1), ('34642', 1), ('37941', 1)]]\n"
          ]
        }
      ]
    }
  ]
}