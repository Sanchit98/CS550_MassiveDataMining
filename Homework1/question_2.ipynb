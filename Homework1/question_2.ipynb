{
  "cells": [
    {
      "cell_type": "code",
      "source": [
        "!pip install pyspark"
      ],
      "metadata": {
        "colab": {
          "base_uri": "https://localhost:8080/"
        },
        "id": "2DFsLcB43Npm",
        "outputId": "01d5e338-0640-4351-920e-92bd9148d4bc"
      },
      "id": "2DFsLcB43Npm",
      "execution_count": 1,
      "outputs": [
        {
          "output_type": "stream",
          "name": "stdout",
          "text": [
            "Looking in indexes: https://pypi.org/simple, https://us-python.pkg.dev/colab-wheels/public/simple/\n",
            "Requirement already satisfied: pyspark in /usr/local/lib/python3.8/dist-packages (3.3.2)\n",
            "Requirement already satisfied: py4j==0.10.9.5 in /usr/local/lib/python3.8/dist-packages (from pyspark) (0.10.9.5)\n"
          ]
        }
      ]
    },
    {
      "cell_type": "code",
      "source": [
        "import re, sys, operator\n",
        "from pyspark import SparkConf, SparkContext\n",
        "conf = SparkConf()\n",
        "sc = SparkContext(conf=conf)"
      ],
      "metadata": {
        "id": "XUnApzcNSiya"
      },
      "id": "XUnApzcNSiya",
      "execution_count": 2,
      "outputs": []
    },
    {
      "cell_type": "code",
      "execution_count": 3,
      "id": "c1426ec2-bd58-4551-8049-da7cf0445bb1",
      "metadata": {
        "colab": {
          "base_uri": "https://localhost:8080/"
        },
        "id": "c1426ec2-bd58-4551-8049-da7cf0445bb1",
        "outputId": "d708a202-1070-4be2-9092-ef64978e8dce"
      },
      "outputs": [
        {
          "output_type": "execute_result",
          "data": {
            "text/plain": [
              "[['ELE17451', 'ELE89019', 'FRO11987', 'GRO99222', 'SNA90258'],\n",
              " ['ELE17451',\n",
              "  'ELE26917',\n",
              "  'ELE52966',\n",
              "  'ELE91550',\n",
              "  'FRO12685',\n",
              "  'FRO84225',\n",
              "  'FRO90334',\n",
              "  'GRO12298',\n",
              "  'GRO99222',\n",
              "  'SNA11465',\n",
              "  'SNA30755',\n",
              "  'SNA80192'],\n",
              " ['DAI22896', 'ELE17451', 'FRO86643', 'GRO73461', 'SNA99873'],\n",
              " ['ELE17451', 'ELE23393', 'ELE37798', 'FRO86643', 'GRO56989', 'SNA11465'],\n",
              " ['DAI54444',\n",
              "  'ELE11375',\n",
              "  'ELE17451',\n",
              "  'ELE28573',\n",
              "  'FRO78087',\n",
              "  'FRO86643',\n",
              "  'GRO39357',\n",
              "  'SNA11465',\n",
              "  'SNA69641']]"
            ]
          },
          "metadata": {},
          "execution_count": 3
        }
      ],
      "source": [
        "line = sc.textFile('./browsing.txt')\n",
        "baskets = line.map(lambda m: m.split()).map(lambda m: sorted(set(m)))\n",
        "baskets.take(5)"
      ]
    },
    {
      "cell_type": "markdown",
      "source": [
        "QUESTION 2D: FOR DOUBLES"
      ],
      "metadata": {
        "id": "i3VrGFxWRE6E"
      },
      "id": "i3VrGFxWRE6E"
    },
    {
      "cell_type": "code",
      "execution_count": 4,
      "id": "2c546bce-2c39-4bee-9c7a-53c4a6ebd446",
      "metadata": {
        "colab": {
          "base_uri": "https://localhost:8080/"
        },
        "id": "2c546bce-2c39-4bee-9c7a-53c4a6ebd446",
        "outputId": "596a483b-f6b7-4c4b-c9c7-e9ed28e95f63"
      },
      "outputs": [
        {
          "output_type": "stream",
          "name": "stdout",
          "text": [
            "Top 5 doubles:\n"
          ]
        },
        {
          "output_type": "execute_result",
          "data": {
            "text/plain": [
              "[('DAI93865 -> FRO40251', 1.0),\n",
              " ('GRO85051 -> FRO40251', 0.999176276771005),\n",
              " ('GRO38636 -> FRO40251', 0.9906542056074766),\n",
              " ('ELE12951 -> FRO40251', 0.9905660377358491),\n",
              " ('DAI88079 -> FRO40251', 0.9867256637168141)]"
            ]
          },
          "metadata": {},
          "execution_count": 4
        }
      ],
      "source": [
        "def calculate_single_items(basket):\n",
        "    single_items = []\n",
        "    for item in basket:\n",
        "        single_items.append((item, 1))\n",
        "    return single_items\n",
        "\n",
        "single_items_support = (baskets.flatMap(calculate_single_items).reduceByKey(operator.add).filter(lambda m: m[1] >= 100))\n",
        "single_items_dict = {}\n",
        "for item, support in single_items_support.collect():\n",
        "    single_items_dict[item] = support\n",
        "single_items_dict = sc.broadcast(single_items_dict)\n",
        "\n",
        "def calculate_double_items(basket):\n",
        "    singles = single_items_dict.value\n",
        "    double_items = []\n",
        "    for i in range(len(basket)):\n",
        "        if basket[i] in singles:\n",
        "            for j in range(i):\n",
        "                if basket[j] in singles:\n",
        "                    double_items.append(((basket[j], basket[i]), 1))\n",
        "    return double_items\n",
        "\n",
        "double_items_support = (baskets.flatMap(calculate_double_items).reduceByKey(operator.add).filter(lambda m: m[1] >= 100))\n",
        "def calculate_conf_double_items(double_items_support):\n",
        "    double, support = double_items_support\n",
        "    support = float(support)\n",
        "    x, y = double\n",
        "    singles = single_items_dict.value\n",
        "    conf_xy = support / singles[x]\n",
        "    conf_yx = support / singles[y]\n",
        "    return (('%s -> %s' % (x, y), conf_xy),\n",
        "            ('%s -> %s' % (y, x), conf_yx))\n",
        "\n",
        "conf_double_items = double_items_support.flatMap(calculate_conf_double_items).sortBy(lambda m: (-m[1], m[0]))\n",
        "double_items_dict = {}\n",
        "for item, support in double_items_support.collect():\n",
        "    double_items_dict[item] = support\n",
        "\n",
        "print(\"Top 5 doubles:\")\n",
        "double_items_dict = sc.broadcast(double_items_dict)\n",
        "conf_double_items.take(5)"
      ]
    },
    {
      "cell_type": "markdown",
      "source": [
        "QUESTION 2E: FOR TRIPLES"
      ],
      "metadata": {
        "id": "kIMUTvM4RGtY"
      },
      "id": "kIMUTvM4RGtY"
    },
    {
      "cell_type": "code",
      "execution_count": 5,
      "id": "95bca7a5-2980-43b2-ba9d-ba0312167f0f",
      "metadata": {
        "colab": {
          "base_uri": "https://localhost:8080/"
        },
        "id": "95bca7a5-2980-43b2-ba9d-ba0312167f0f",
        "outputId": "60e6c6b5-4b3f-44f7-fc4e-96927d2761d9"
      },
      "outputs": [
        {
          "output_type": "stream",
          "name": "stdout",
          "text": [
            "Top 5 triples:\n"
          ]
        },
        {
          "output_type": "execute_result",
          "data": {
            "text/plain": [
              "[('(DAI23334, ELE92920) -> DAI62779', 1.0),\n",
              " ('(DAI31081, GRO85051) -> FRO40251', 1.0),\n",
              " ('(DAI55911, GRO85051) -> FRO40251', 1.0),\n",
              " ('(DAI62779, DAI88079) -> FRO40251', 1.0),\n",
              " ('(DAI75645, GRO85051) -> FRO40251', 1.0)]"
            ]
          },
          "metadata": {},
          "execution_count": 5
        }
      ],
      "source": [
        "def calculate_triple_items(basket):\n",
        "    doubles = double_items_dict.value\n",
        "    singles = single_items_dict.value\n",
        "    triple_items = []\n",
        "    for i in range(len(basket)):\n",
        "        if basket[i] not in singles:\n",
        "            continue\n",
        "        for j in range(i):\n",
        "            if basket[j] not in singles:\n",
        "                continue\n",
        "            if (basket[j], basket[i]) not in doubles:\n",
        "                continue\n",
        "            for k in range(j):\n",
        "                if basket[k] not in singles:\n",
        "                    continue\n",
        "                if (basket[k], basket[j]) not in doubles:\n",
        "                    continue\n",
        "                if (basket[k], basket[i]) not in doubles:\n",
        "                    continue\n",
        "                triple_items.append(((basket[k], basket[j], basket[i]), 1))\n",
        "    return triple_items\n",
        "\n",
        "\n",
        "triple_items_support = (baskets.flatMap(calculate_triple_items).reduceByKey(operator.add).filter(lambda m: m[1] >= 100))\n",
        "\n",
        "def calculate_conf_triple_items(triple_items_support):\n",
        "    doubles = double_items_dict.value\n",
        "    triple, support = triple_items_support\n",
        "    support = float(support)\n",
        "    x, y, z = triple\n",
        "    conf_xy_z = support / doubles[x, y]\n",
        "    conf_xz_y = support / doubles[x, z]\n",
        "    conf_yz_x = support / doubles[y, z]\n",
        "    return (('(%s, %s) -> %s' % (x, y, z), conf_xy_z),\n",
        "            ('(%s, %s) -> %s' % (x, z, y), conf_xz_y),\n",
        "            ('(%s, %s) -> %s' % (y, z, x), conf_yz_x))\n",
        "print(\"Top 5 triples:\")\n",
        "conf_triple_items = triple_items_support.flatMap(calculate_conf_triple_items).sortBy(lambda m: (-m[1], m[0]))\n",
        "conf_triple_items.take(5)"
      ]
    }
  ],
  "metadata": {
    "kernelspec": {
      "display_name": "* Spark 3 in Python 3.8",
      "language": "python",
      "name": "pyspark3"
    },
    "language_info": {
      "codemirror_mode": {
        "name": "ipython",
        "version": 3
      },
      "file_extension": ".py",
      "mimetype": "text/x-python",
      "name": "python",
      "nbconvert_exporter": "python",
      "pygments_lexer": "ipython3",
      "version": "3.8.10"
    },
    "colab": {
      "provenance": []
    }
  },
  "nbformat": 4,
  "nbformat_minor": 5
}