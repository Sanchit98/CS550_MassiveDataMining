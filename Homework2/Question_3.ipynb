{
  "nbformat": 4,
  "nbformat_minor": 0,
  "metadata": {
    "colab": {
      "provenance": []
    },
    "kernelspec": {
      "name": "python3",
      "display_name": "Python 3"
    },
    "language_info": {
      "name": "python"
    }
  },
  "cells": [
    {
      "cell_type": "code",
      "execution_count": 14,
      "metadata": {
        "id": "YbaK4FbUZ-Ou"
      },
      "outputs": [],
      "source": [
        "import numpy as np"
      ]
    },
    {
      "cell_type": "code",
      "source": [
        "num_iterations = 40\n",
        "beta = 0.8\n",
        "filepath = 'graph.txt'\n",
        "num_nodes = 100\n",
        "M = np.zeros((num_nodes,num_nodes))\n",
        "degree = np.zeros(num_nodes)  \n",
        "\n",
        "with open(filepath, 'r') as f:\n",
        "    for line in f:\n",
        "        edge = line.strip().split('\\t')   \n",
        "        src = int(edge[0])-1\n",
        "        dest = int(edge[1])-1\n",
        "        M[dest][src] += 1   \n",
        "        degree[src] += 1\n",
        "\n",
        "for j in range(num_nodes):\n",
        "  for i in range(num_nodes):\n",
        "    if M[j][i] > 0:\n",
        "      M[j][i] = M[j][i]/degree[i]"
      ],
      "metadata": {
        "id": "dBf-R-3FlIT5"
      },
      "execution_count": 15,
      "outputs": []
    },
    {
      "cell_type": "code",
      "source": [
        "r = np.full(num_nodes,(1.0/num_nodes))\n",
        "r_ones = np.ones(num_nodes)\n",
        "r_ones = ((1-beta)/(1.0*num_nodes))*r_ones\n",
        "r_new = np.zeros(num_nodes)\n",
        "\n",
        "for itr in range(num_iterations):\n",
        "  r_new = r_ones + beta*(np.dot(M,r))\n",
        "  r = r_new"
      ],
      "metadata": {
        "id": "kj4eYotNn33K"
      },
      "execution_count": 16,
      "outputs": []
    },
    {
      "cell_type": "code",
      "source": [
        "print(\"Node IDs with lowest page rank scores:\")\n",
        "r_sorted = np.argsort(r)\n",
        "for i in range(5):\n",
        "  print(\"{0} , {1}\".format(r_sorted[i]+1, r[r_sorted[i]]))\n"
      ],
      "metadata": {
        "colab": {
          "base_uri": "https://localhost:8080/"
        },
        "id": "2j-_ctmsn5Sk",
        "outputId": "413e00b1-655d-4557-f3cc-218e38fe5cf6"
      },
      "execution_count": 17,
      "outputs": [
        {
          "output_type": "stream",
          "name": "stdout",
          "text": [
            "Node IDs with lowest page rank scores:\n",
            "85 , 0.003234819143382019\n",
            "59 , 0.003444256201194502\n",
            "81 , 0.003580432413995564\n",
            "37 , 0.003714283971941924\n",
            "89 , 0.0038398576156450873\n"
          ]
        }
      ]
    },
    {
      "cell_type": "code",
      "source": [
        "print(\"Node IDs with highest page rank scores:\")\n",
        "r_desc = np.flip(r_sorted)\n",
        "for i in range(5):\n",
        "  print(\"{0} , {1}\".format(r_desc[i]+1, r[r_desc[i]]))"
      ],
      "metadata": {
        "colab": {
          "base_uri": "https://localhost:8080/"
        },
        "id": "q0y4L9kcn7Xr",
        "outputId": "3907fb69-a4ce-435a-b855-b3360d5188d8"
      },
      "execution_count": 18,
      "outputs": [
        {
          "output_type": "stream",
          "name": "stdout",
          "text": [
            "Node IDs with highest page rank scores:\n",
            "53 , 0.037868613328747594\n",
            "14 , 0.035866772133529436\n",
            "1 , 0.03514138301760087\n",
            "40 , 0.03383064398237689\n",
            "27 , 0.03313019554724851\n"
          ]
        }
      ]
    }
  ]
}