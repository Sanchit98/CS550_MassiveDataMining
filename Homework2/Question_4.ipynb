{
  "nbformat": 4,
  "nbformat_minor": 0,
  "metadata": {
    "colab": {
      "provenance": []
    },
    "kernelspec": {
      "name": "python3",
      "display_name": "Python 3"
    },
    "language_info": {
      "name": "python"
    }
  },
  "cells": [
    {
      "cell_type": "code",
      "source": [
        "pip install pyspark"
      ],
      "metadata": {
        "colab": {
          "base_uri": "https://localhost:8080/"
        },
        "id": "PueLabJBZiOR",
        "outputId": "2c7b733f-d4f0-408b-b499-0a75ef67b468"
      },
      "execution_count": null,
      "outputs": [
        {
          "output_type": "stream",
          "name": "stdout",
          "text": [
            "Looking in indexes: https://pypi.org/simple, https://us-python.pkg.dev/colab-wheels/public/simple/\n",
            "Collecting pyspark\n",
            "  Downloading pyspark-3.3.2.tar.gz (281.4 MB)\n",
            "\u001b[2K     \u001b[90m━━━━━━━━━━━━━━━━━━━━━━━━━━━━━━━━━━━━━━━\u001b[0m \u001b[32m281.4/281.4 MB\u001b[0m \u001b[31m4.8 MB/s\u001b[0m eta \u001b[36m0:00:00\u001b[0m\n",
            "\u001b[?25h  Preparing metadata (setup.py) ... \u001b[?25l\u001b[?25hdone\n",
            "Collecting py4j==0.10.9.5\n",
            "  Downloading py4j-0.10.9.5-py2.py3-none-any.whl (199 kB)\n",
            "\u001b[2K     \u001b[90m━━━━━━━━━━━━━━━━━━━━━━━━━━━━━━━━━━━━━━\u001b[0m \u001b[32m199.7/199.7 KB\u001b[0m \u001b[31m16.8 MB/s\u001b[0m eta \u001b[36m0:00:00\u001b[0m\n",
            "\u001b[?25hBuilding wheels for collected packages: pyspark\n",
            "  Building wheel for pyspark (setup.py) ... \u001b[?25l\u001b[?25hdone\n",
            "  Created wheel for pyspark: filename=pyspark-3.3.2-py2.py3-none-any.whl size=281824025 sha256=7ba19996c25149d0c0a69250138d27f56710a0b4bffde02b0b5040faf854d9d1\n",
            "  Stored in directory: /root/.cache/pip/wheels/6c/e3/9b/0525ce8a69478916513509d43693511463c6468db0de237c86\n",
            "Successfully built pyspark\n",
            "Installing collected packages: py4j, pyspark\n",
            "Successfully installed py4j-0.10.9.5 pyspark-3.3.2\n"
          ]
        }
      ]
    },
    {
      "cell_type": "code",
      "source": [
        "import numpy as np\n",
        "import matplotlib.pyplot as plt\n",
        "from scipy import linalg as LA\n",
        "from pyspark import SparkContext\n",
        "import os"
      ],
      "metadata": {
        "id": "wdiBSS5lZN11"
      },
      "execution_count": null,
      "outputs": []
    },
    {
      "cell_type": "code",
      "source": [
        "def calculate_cost(row, centers):\n",
        "    ith, (d, n) = row\n",
        "    distance = LA.norm(d - centers[ith], 2)\n",
        "    return distance**2"
      ],
      "metadata": {
        "id": "-9dMQpM-vtZ6"
      },
      "execution_count": null,
      "outputs": []
    },
    {
      "cell_type": "code",
      "source": [
        "def mapper(line):\n",
        "    lines = line.split(' ')\n",
        "    list_lines = [float(x) for x in lines]\n",
        "    return np.array(list_lines)"
      ],
      "metadata": {
        "id": "H_hoRacfvmqK"
      },
      "execution_count": null,
      "outputs": []
    },
    {
      "cell_type": "code",
      "source": [
        "def nearest_center(row, centers):\n",
        "    distance = [(i, LA.norm(row - center, 2)) for i, center in enumerate(centers)]\n",
        "    distance.sort(key=lambda k: k[-1])\n",
        "    return (distance[0][0], (row, 1))"
      ],
      "metadata": {
        "id": "sjZJ_1DyvpcQ"
      },
      "execution_count": null,
      "outputs": []
    },
    {
      "cell_type": "code",
      "source": [
        "def plot_cost(c1_cost, c2_cost):\n",
        "    x = range(1, len(c1_cost) + 1)\n",
        "\n",
        "    plt.title('Cost for c1 & c2', fontsize=15)\n",
        "    plt.xlabel('Iterations', fontsize=15)\n",
        "    plt.ylabel('Cost', fontsize=15)\n",
        "    plt.plot(x, c1_cost, color='orange', linewidth=2.0, linestyle='-',label=\"c1_cost\")\n",
        "    plt.plot(x, c2_cost, color='blue', linewidth=2.0, linestyle='-',label=\"c2_cost\")\n",
        "    plt.legend(loc='upper right')\n",
        "    plt.show()\n"
      ],
      "metadata": {
        "id": "oNJvh1C_vw0q"
      },
      "execution_count": null,
      "outputs": []
    },
    {
      "cell_type": "code",
      "source": [
        "if __name__ == '__main__':\n",
        "\n",
        "    loops = 20\n",
        "\n",
        "    sc = SparkContext.getOrCreate()\n",
        "    path = 'data.txt'\n",
        "    data = sc.textFile(path).map(lambda row:mapper(row)).cache()\n",
        "    path1 = 'c1.txt'\n",
        "    c1 = sc.textFile(path1).map(lambda row:mapper(row)).collect()\n",
        "    path2 = 'c2.txt'\n",
        "    c2 = sc.textFile(path2).map(lambda row:mapper(row)).collect()\n",
        "\n",
        "    c1_cost = []\n",
        "    c2_cost = []\n",
        "\n",
        "    for i in range(loops):\n",
        "        kmeans_c1 = data.map(lambda row: nearest_center(row, c1))\n",
        "        cost1 = kmeans_c1.map(lambda row: calculate_cost(row, c1)).sum()\n",
        "        c1_cost.append(cost1)\n",
        "        c1 = kmeans_c1.reduceByKey(lambda a, b: (a[0] + b[0], a[1] + b[1])).map(lambda row: row[-1][0] / row[-1][1]).collect()\n",
        "\n",
        "        kmeans_c2 = data.map(lambda row: nearest_center(row, c2))\n",
        "        cost2 = kmeans_c2.map(lambda row: calculate_cost(row, c2)).sum()\n",
        "        c2_cost.append(cost2)\n",
        "        c2 = kmeans_c2.reduceByKey(lambda a, b: (a[0] + b[0], a[1] + b[1])).map(lambda row: row[-1][0] / row[-1][1]).collect()\n",
        "\n",
        "    plot_cost(c1_cost, c2_cost)\n",
        "\n",
        "    print('Percentage change in cost after 10 iterations using c1 is:')\n",
        "    print((c1_cost[0]-c1_cost[10])/c1_cost[0], '\\n')\n",
        "\n",
        "    print('Percentage change in cost after 10 iterations using c2 is:')\n",
        "    print((c2_cost[0]-c2_cost[10])/c2_cost[0], '\\n')"
      ],
      "metadata": {
        "colab": {
          "base_uri": "https://localhost:8080/",
          "height": 409
        },
        "id": "LZl7RFbLvzhD",
        "outputId": "6fde9297-8e12-459e-f8f0-4971514f1a00"
      },
      "execution_count": null,
      "outputs": [
        {
          "output_type": "display_data",
          "data": {
            "text/plain": [
              "<Figure size 432x288 with 1 Axes>"
            ],
            "image/png": "[encoded data removed]"
          },
          "metadata": {
            "needs_background": "light"
          }
        },
        {
          "output_type": "stream",
          "name": "stdout",
          "text": [
            "Percentage change in cost after 10 iterations using c1 is:\n",
            "0.2648391714456056 \n",
            "\n",
            "Percentage change in cost after 10 iterations using c2 is:\n",
            "0.7669795594605946 \n",
            "\n"
          ]
        }
      ]
    }
  ]
}