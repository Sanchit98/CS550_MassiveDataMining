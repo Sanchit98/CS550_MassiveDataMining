{
  "nbformat": 4,
  "nbformat_minor": 0,
  "metadata": {
    "colab": {
      "provenance": []
    },
    "kernelspec": {
      "name": "python3",
      "display_name": "Python 3"
    },
    "language_info": {
      "name": "python"
    }
  },
  "cells": [
    {
      "cell_type": "code",
      "source": [
        "import numpy as np\n",
        "import scipy \n",
        "from scipy import linalg\n",
        "import pprint as pp"
      ],
      "metadata": {
        "id": "lwHZ2LVVhZab"
      },
      "execution_count": 8,
      "outputs": []
    },
    {
      "cell_type": "code",
      "execution_count": 9,
      "metadata": {
        "colab": {
          "base_uri": "https://localhost:8080/"
        },
        "id": "vuEa2Hh5Xenm",
        "outputId": "4cf66110-36fe-49cd-aec4-a3df6f4b328a"
      },
      "outputs": [
        {
          "output_type": "stream",
          "name": "stdout",
          "text": [
            "The value of U is:\n",
            "array([[-0.27854301,  0.5       ],\n",
            "       [-0.27854301, -0.5       ],\n",
            "       [-0.64993368,  0.5       ],\n",
            "       [-0.64993368, -0.5       ]])\n"
          ]
        }
      ],
      "source": [
        "M = [[1,2],[2,1],[3,4],[4,3]]\n",
        "M = np.asarray(M)\n",
        "\n",
        "svd = linalg.svd(M,full_matrices=False)\n",
        "\n",
        "U = svd[0]\n",
        "print(\"The value of U is:\")\n",
        "pp.pprint(U)"
      ]
    },
    {
      "cell_type": "code",
      "source": [
        "sigma = svd[1]\n",
        "print(\"The value of Sigma is:\")\n",
        "pp.pprint(sigma)"
      ],
      "metadata": {
        "colab": {
          "base_uri": "https://localhost:8080/"
        },
        "id": "VAhOnXZWhqqj",
        "outputId": "d38457f9-11c6-4bc9-bd8a-af88bcac475e"
      },
      "execution_count": 10,
      "outputs": [
        {
          "output_type": "stream",
          "name": "stdout",
          "text": [
            "The value of Sigma is:\n",
            "array([7.61577311, 1.41421356])\n"
          ]
        }
      ]
    },
    {
      "cell_type": "code",
      "source": [
        "V_T = svd[2]\n",
        "print(\"The value of V_transpose is:\")\n",
        "pp.pprint(V_T)"
      ],
      "metadata": {
        "colab": {
          "base_uri": "https://localhost:8080/"
        },
        "id": "QW4t6lXphyhs",
        "outputId": "e3eb73e7-cd88-4961-e850-77c680326bb1"
      },
      "execution_count": 11,
      "outputs": [
        {
          "output_type": "stream",
          "name": "stdout",
          "text": [
            "The value of V_transpose is:\n",
            "array([[-0.70710678, -0.70710678],\n",
            "       [-0.70710678,  0.70710678]])\n"
          ]
        }
      ]
    },
    {
      "cell_type": "code",
      "source": [
        "matrix = np.matmul(M.T,M)\n",
        "Evals,Evecs = scipy.linalg.eigh(matrix)\n",
        "\n",
        "Evals = sorted(Evals, reverse=True)\n",
        "print(\"The eigen values are:\")\n",
        "pp.pprint(Evals)"
      ],
      "metadata": {
        "colab": {
          "base_uri": "https://localhost:8080/"
        },
        "id": "dvaRxuF7h5yy",
        "outputId": "570a39ae-0d94-4a2c-8ce2-398915776fb3"
      },
      "execution_count": 12,
      "outputs": [
        {
          "output_type": "stream",
          "name": "stdout",
          "text": [
            "The eigen values are:\n",
            "[58.0, 2.0]\n"
          ]
        }
      ]
    },
    {
      "cell_type": "code",
      "source": [
        "Evecs = np.flip(Evecs,1)\n",
        "print(\"The eigen vectors are:\")\n",
        "pp.pprint(Evecs)"
      ],
      "metadata": {
        "colab": {
          "base_uri": "https://localhost:8080/"
        },
        "id": "wq9notmQh-MS",
        "outputId": "14283a55-0464-44f5-ee74-d9b15b358c95"
      },
      "execution_count": 13,
      "outputs": [
        {
          "output_type": "stream",
          "name": "stdout",
          "text": [
            "The eigen vectors are:\n",
            "array([[ 0.70710678, -0.70710678],\n",
            "       [ 0.70710678,  0.70710678]])\n"
          ]
        }
      ]
    }
  ]
}